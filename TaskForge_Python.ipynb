{
  "nbformat": 4,
  "nbformat_minor": 0,
  "metadata": {
    "colab": {
      "provenance": [],
      "authorship_tag": "ABX9TyMCFDE0xK0ZNmKCy5XB7Mpd",
      "include_colab_link": true
    },
    "kernelspec": {
      "name": "python3",
      "display_name": "Python 3"
    },
    "language_info": {
      "name": "python"
    }
  },
  "cells": [
    {
      "cell_type": "markdown",
      "metadata": {
        "id": "view-in-github",
        "colab_type": "text"
      },
      "source": [
        "<a href=\"https://colab.research.google.com/github/ArunGoddati/AJACKUS_Assignment/blob/main/TaskForge_Python.ipynb\" target=\"_parent\"><img src=\"https://colab.research.google.com/assets/colab-badge.svg\" alt=\"Open In Colab\"/></a>"
      ]
    },
    {
      "cell_type": "code",
      "execution_count": 2,
      "metadata": {
        "id": "ZWfcRUKmWfR0"
      },
      "outputs": [],
      "source": [
        "import uuid\n",
        "from datetime import datetime\n",
        "\n",
        "class Task:\n",
        "    def __init__(self, title, priority, due_date, status=\"Pending\", task_id=None):\n",
        "        self.id = task_id if task_id else str(uuid.uuid4())[:8]\n",
        "        self.title = title\n",
        "        self.priority = priority\n",
        "        self.due_date = due_date\n",
        "        self.status = status\n",
        "\n",
        "    def to_dict(self):\n",
        "        return {\n",
        "            \"id\": self.id,\n",
        "            \"title\": self.title,\n",
        "            \"priority\": self.priority,\n",
        "            \"due_date\": self.due_date,\n",
        "            \"status\": self.status\n",
        "        }\n",
        "\n",
        "    @classmethod\n",
        "    def from_dict(cls, data):\n",
        "        return cls(\n",
        "            title=data[\"title\"],\n",
        "            priority=data[\"priority\"],\n",
        "            due_date=data[\"due_date\"],\n",
        "            status=data[\"status\"],\n",
        "            task_id=data[\"id\"]\n",
        "        )\n"
      ]
    },
    {
      "cell_type": "code",
      "source": [
        "import json\n",
        "from datetime import timedelta\n",
        "\n",
        "class TaskManager:\n",
        "    def __init__(self):\n",
        "        self.task_list = []\n",
        "\n",
        "    def add_task(self, title, priority, due_date):\n",
        "        task = Task(title, priority, due_date)\n",
        "        self.task_list.append(task)\n",
        "\n",
        "    def view_tasks(self, filter_by=None, value=None):\n",
        "        tasks = self.task_list\n",
        "\n",
        "        if filter_by == \"status\":\n",
        "            tasks = [t for t in tasks if t.status.lower() == value.lower()]\n",
        "        elif filter_by == \"due_date\":\n",
        "            today = datetime.today().date()\n",
        "            if value == \"today\":\n",
        "                tasks = [t for t in tasks if t.due_date == today.isoformat()]\n",
        "            elif value == \"week\":\n",
        "                week_later = today + timedelta(days=7)\n",
        "                tasks = [t for t in tasks if today.isoformat() <= t.due_date <= week_later.isoformat()]\n",
        "\n",
        "        if not tasks:\n",
        "            print(\"No tasks found.\")\n",
        "        else:\n",
        "            for task in tasks:\n",
        "                print(f\"{task.id} | {task.title} | {task.priority} | {task.due_date} | {task.status}\")\n",
        "\n",
        "    def update_task(self, task_id, new_title=None, new_priority=None, new_due_date=None):\n",
        "        for task in self.task_list:\n",
        "            if task.id == task_id:\n",
        "                task.title = new_title or task.title\n",
        "                task.priority = new_priority or task.priority\n",
        "                task.due_date = new_due_date or task.due_date\n",
        "                return True\n",
        "        return False\n",
        "\n",
        "    def mark_complete(self, task_id):\n",
        "        for task in self.task_list:\n",
        "            if task.id == task_id:\n",
        "                task.status = \"Completed\"\n",
        "                return True\n",
        "        return False\n",
        "\n",
        "    def delete_task(self, task_id):\n",
        "        original_len = len(self.task_list)\n",
        "        self.task_list = [t for t in self.task_list if t.id != task_id]\n",
        "        return len(self.task_list) < original_len\n",
        "\n",
        "    def save_to_file(self, filename=\"tasks.json\"):\n",
        "        with open(filename, \"w\") as f:\n",
        "            json.dump([task.to_dict() for task in self.task_list], f, indent=2)\n",
        "\n",
        "    def load_from_file(self, filename=\"tasks.json\"):\n",
        "        try:\n",
        "            with open(filename, \"r\") as f:\n",
        "                content = f.read().strip()\n",
        "                if not content:\n",
        "                    self.task_list = []\n",
        "                    return\n",
        "                tasks = json.loads(content)\n",
        "                self.task_list = [Task.from_dict(t) for t in tasks]\n",
        "        except (FileNotFoundError, json.JSONDecodeError):\n",
        "            self.task_list = []\n"
      ],
      "metadata": {
        "id": "J3loX3dTXxHx"
      },
      "execution_count": 3,
      "outputs": []
    },
    {
      "cell_type": "code",
      "source": [
        "tm = TaskManager()\n",
        "\n",
        "tm.add_task(\"Finish resume\", \"High\", \"2025-08-07\")\n",
        "tm.add_task(\"Buy groceries\", \"Medium\", \"2025-08-04\")\n",
        "\n",
        "tm.view_tasks()\n",
        "\n",
        "task_id = tm.task_list[0].id\n",
        "tm.update_task(task_id, new_title=\"Finish CV and resume\")\n",
        "\n",
        "tm.mark_complete(task_id)\n",
        "\n",
        "tm.delete_task(task_id)\n",
        "\n",
        "tm.save_to_file()\n",
        "tm.load_from_file()\n",
        "\n",
        "tm.view_tasks()\n"
      ],
      "metadata": {
        "colab": {
          "base_uri": "https://localhost:8080/"
        },
        "id": "fq8owWyYX6vD",
        "outputId": "4790b0fb-e248-4925-af4b-7dc63c7d10ac"
      },
      "execution_count": 4,
      "outputs": [
        {
          "output_type": "stream",
          "name": "stdout",
          "text": [
            "b284236b | Finish resume | High | 2025-08-07 | Pending\n",
            "dde973e0 | Buy groceries | Medium | 2025-08-04 | Pending\n",
            "dde973e0 | Buy groceries | Medium | 2025-08-04 | Pending\n"
          ]
        }
      ]
    }
  ]
}